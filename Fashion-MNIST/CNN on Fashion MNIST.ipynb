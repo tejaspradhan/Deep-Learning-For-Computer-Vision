{
 "cells": [
  {
   "cell_type": "markdown",
   "metadata": {},
   "source": [
    "## Importing the necessary libraries"
   ]
  },
  {
   "cell_type": "code",
   "execution_count": 39,
   "metadata": {},
   "outputs": [],
   "source": [
    "import tensorflow as tf\n",
    "import numpy as np\n",
    "from tensorflow.keras import Sequential \n",
    "from tensorflow.keras.layers import Dense, Conv2D, MaxPool2D, Flatten"
   ]
  },
  {
   "cell_type": "markdown",
   "metadata": {},
   "source": [
    "## Loading the dataset"
   ]
  },
  {
   "cell_type": "code",
   "execution_count": 40,
   "metadata": {},
   "outputs": [],
   "source": [
    "data = tf.keras.datasets.fashion_mnist\n",
    "(x_train,y_train),(x_test,y_test) = data.load_data()\n",
    "x_train = x_train.reshape(60000,28,28,1)   # A 2D convolution needs a 4-D array, last dimension being of colors\n",
    "\n",
    "x_train = x_train/255.0\n",
    "x_test =x_test/255.0"
   ]
  },
  {
   "cell_type": "markdown",
   "metadata": {},
   "source": [
    "## Building the neural network\n",
    "### Architecture :\n",
    "- 2 Convolutional layers  followed by max pooling layers respectively \n",
    "- Each convolutional layer has 64 convolutions of size 3x3\n",
    "- Each max pooling layer has a filter of 2x2 so it halves the dimensions of the original image\n",
    "- This is followed by a flattening layer and a dense layer for final feature processing\n",
    "- Output layer is softmax with 10 units as there are 10 layers"
   ]
  },
  {
   "cell_type": "code",
   "execution_count": 41,
   "metadata": {},
   "outputs": [],
   "source": [
    "model = Sequential()\n",
    "model.add(Conv2D(64,(3,3),activation='relu',input_shape=(28,28,1)))\n",
    "model.add(MaxPool2D(2,2))\n",
    "model.add(Conv2D(64,(3,3),activation='relu',input_shape=(28,28,1)))\n",
    "model.add(MaxPool2D(2,2))\n",
    "model.add(Flatten())\n",
    "model.add(Dense(128,activation='relu'))\n",
    "model.add(Dense(10,activation='softmax'))\n",
    "model.compile(optimizer ='adam',loss='sparse_categorical_crossentropy',metrics= ['accuracy'])\n"
   ]
  },
  {
   "cell_type": "code",
   "execution_count": 42,
   "metadata": {},
   "outputs": [
    {
     "name": "stdout",
     "output_type": "stream",
     "text": [
      "Train on 60000 samples\n",
      "Epoch 1/5\n",
      "60000/60000 [==============================] - 86s 1ms/sample - loss: 0.4369 - accuracy: 0.8422\n",
      "Epoch 2/5\n",
      "60000/60000 [==============================] - 86s 1ms/sample - loss: 0.2966 - accuracy: 0.8917s - l\n",
      "Epoch 3/5\n",
      "60000/60000 [==============================] - 84s 1ms/sample - loss: 0.2478 - accuracy: 0.9083\n",
      "Epoch 4/5\n",
      "60000/60000 [==============================] - 83s 1ms/sample - loss: 0.2160 - accuracy: 0.9193\n",
      "Epoch 5/5\n",
      "60000/60000 [==============================] - 82s 1ms/sample - loss: 0.1889 - accuracy: 0.9291\n"
     ]
    },
    {
     "data": {
      "text/plain": [
       "<tensorflow.python.keras.callbacks.History at 0x1ee18a89898>"
      ]
     },
     "execution_count": 42,
     "metadata": {},
     "output_type": "execute_result"
    }
   ],
   "source": [
    "model.fit(x_train,y_train,epochs =5)"
   ]
  },
  {
   "cell_type": "code",
   "execution_count": 43,
   "metadata": {},
   "outputs": [
    {
     "name": "stdout",
     "output_type": "stream",
     "text": [
      "10000/10000 [==============================] - 6s 571us/sample - loss: 0.2558 - accuracy: 0.9092\n"
     ]
    },
    {
     "data": {
      "text/plain": [
       "[0.25579336891174315, 0.9092]"
      ]
     },
     "execution_count": 43,
     "metadata": {},
     "output_type": "execute_result"
    }
   ],
   "source": [
    "x_test = x_test.reshape(10000,28,28,1)\n",
    "model.evaluate(x_test,y_test)"
   ]
  },
  {
   "cell_type": "markdown",
   "metadata": {},
   "source": [
    "## 90% Accuracy is observed"
   ]
  },
  {
   "cell_type": "code",
   "execution_count": null,
   "metadata": {},
   "outputs": [],
   "source": []
  }
 ],
 "metadata": {
  "kernelspec": {
   "display_name": "Python 3",
   "language": "python",
   "name": "python3"
  },
  "language_info": {
   "codemirror_mode": {
    "name": "ipython",
    "version": 3
   },
   "file_extension": ".py",
   "mimetype": "text/x-python",
   "name": "python",
   "nbconvert_exporter": "python",
   "pygments_lexer": "ipython3",
   "version": "3.6.5"
  }
 },
 "nbformat": 4,
 "nbformat_minor": 2
}
