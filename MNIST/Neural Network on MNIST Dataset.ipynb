{
 "cells": [
  {
   "cell_type": "markdown",
   "metadata": {},
   "source": [
    "## Importing the necessary libraries"
   ]
  },
  {
   "cell_type": "code",
   "execution_count": 7,
   "metadata": {},
   "outputs": [],
   "source": [
    "import tensorflow as tf\n",
    "import numpy as np\n",
    "import pandas as pd"
   ]
  },
  {
   "cell_type": "markdown",
   "metadata": {},
   "source": [
    "## Loading the Dataset"
   ]
  },
  {
   "cell_type": "code",
   "execution_count": 8,
   "metadata": {},
   "outputs": [],
   "source": [
    "mnist = tf.keras.datasets.mnist\n",
    "\n",
    "(x_train, y_train),(x_test, y_test) = mnist.load_data()\n",
    "\n",
    "# Normalizing the dataset\n",
    "x_train = x_train/255.0\n",
    "x_test = x_test/255.0\n"
   ]
  },
  {
   "cell_type": "markdown",
   "metadata": {},
   "source": [
    "## Building the Neural Network"
   ]
  },
  {
   "cell_type": "code",
   "execution_count": 13,
   "metadata": {},
   "outputs": [],
   "source": [
    "model = tf.keras.models.Sequential()\n",
    "model.add(tf.keras.layers.Flatten())\n",
    "model.add(tf.keras.layers.Dense(128, activation = tf.nn.relu))\n",
    "model.add(tf.keras.layers.Dense(128, activation = tf.nn.relu))\n",
    "model.add(tf.keras.layers.Dense(10, activation = tf.nn.softmax))  # we can also write this as activation = 'softmax'\n",
    "model.compile(optimizer='adam',loss='sparse_categorical_crossentropy',metrics=['accuracy'])\n",
    "# NN has 2 hidden layers   "
   ]
  },
  {
   "cell_type": "markdown",
   "metadata": {},
   "source": [
    "## Defining a Function to train the model\n",
    "##  \n",
    "\n",
    "Here, we have defined a function, which takes the data and model as inputs and returns the loss and accuracy as the output.\n",
    "\n",
    "The model consists of 3 main steps :\n",
    "- Defining the callback class and instantiating it to stop training and prevent overfitting\n",
    "- Fitting the model on the training set\n",
    "- Evaluating the model's performance on the test set and calculating accuracy"
   ]
  },
  {
   "cell_type": "code",
   "execution_count": 10,
   "metadata": {
    "colab": {},
    "colab_type": "code",
    "id": "9rvXQGAA0ssC"
   },
   "outputs": [],
   "source": [
    "def train_model(x_train,y_train,x_test,y_test,model):\n",
    "    '''\n",
    "    function which trains the model and returns the number of epochs as welll as accuracy \n",
    "    '''\n",
    "    class Call_back(tf.keras.callbacks.Callback):\n",
    "        def on_epoch_end(self,epoch,logs={}):\n",
    "            if(logs.get('accuracy')>0.99):\n",
    "                print('Desired Accuracy Reached.Stopping the Training.')\n",
    "                self.model.stop_training = True\n",
    "    \n",
    "    callback = Call_back()\n",
    "                \n",
    "\n",
    "    \n",
    "    # model fitting\n",
    "    history = model.fit(x_train,y_train,callbacks = [callback],epochs =10)\n",
    "    metrics = model.evaluate(x_test,y_test)\n",
    "    return metrics"
   ]
  },
  {
   "cell_type": "markdown",
   "metadata": {},
   "source": [
    "#### Now, we call the train model function..."
   ]
  },
  {
   "cell_type": "code",
   "execution_count": 11,
   "metadata": {
    "colab": {},
    "colab_type": "code",
    "id": "9rvXQGAA0ssC"
   },
   "outputs": [
    {
     "name": "stdout",
     "output_type": "stream",
     "text": [
      "Train on 60000 samples\n",
      "Epoch 1/10\n",
      "60000/60000 [==============================] - 9s 156us/sample - loss: 0.2288 - accuracy: 0.9328\n",
      "Epoch 2/10\n",
      "60000/60000 [==============================] - 10s 160us/sample - loss: 0.0967 - accuracy: 0.9699\n",
      "Epoch 3/10\n",
      "60000/60000 [==============================] - 10s 161us/sample - loss: 0.0692 - accuracy: 0.9781\n",
      "Epoch 4/10\n",
      "60000/60000 [==============================] - 8s 140us/sample - loss: 0.0518 - accuracy: 0.9830\n",
      "Epoch 5/10\n",
      "60000/60000 [==============================] - 9s 156us/sample - loss: 0.0403 - accuracy: 0.9870\n",
      "Epoch 6/10\n",
      "60000/60000 [==============================] - 8s 137us/sample - loss: 0.0330 - accuracy: 0.9891\n",
      "Epoch 7/10\n",
      "59872/60000 [============================>.] - ETA: 0s - loss: 0.0276 - accuracy: 0.9907Desired Accuracy Reached.Stopping the Training.\n",
      "60000/60000 [==============================] - 8s 130us/sample - loss: 0.0277 - accuracy: 0.9908\n",
      "10000/10000 [==============================] - 1s 84us/sample - loss: 0.0844 - accuracy: 0.9780\n"
     ]
    },
    {
     "data": {
      "text/plain": [
       "[0.08441498854700621, 0.978]"
      ]
     },
     "execution_count": 11,
     "metadata": {},
     "output_type": "execute_result"
    }
   ],
   "source": [
    "train_model(x_train,y_train,x_test,y_test,model)"
   ]
  },
  {
   "cell_type": "markdown",
   "metadata": {},
   "source": [
    "### As we can see we have a loss of 0.08 and an accuracy of 97% on the validation set "
   ]
  },
  {
   "cell_type": "code",
   "execution_count": null,
   "metadata": {},
   "outputs": [],
   "source": []
  },
  {
   "cell_type": "code",
   "execution_count": null,
   "metadata": {},
   "outputs": [],
   "source": []
  },
  {
   "cell_type": "code",
   "execution_count": null,
   "metadata": {},
   "outputs": [],
   "source": []
  }
 ],
 "metadata": {
  "coursera": {
   "course_slug": "introduction-tensorflow",
   "graded_item_id": "d6dew",
   "launcher_item_id": "FExZ4"
  },
  "kernelspec": {
   "display_name": "Python 3",
   "language": "python",
   "name": "python3"
  },
  "language_info": {
   "codemirror_mode": {
    "name": "ipython",
    "version": 3
   },
   "file_extension": ".py",
   "mimetype": "text/x-python",
   "name": "python",
   "nbconvert_exporter": "python",
   "pygments_lexer": "ipython3",
   "version": "3.6.5"
  }
 },
 "nbformat": 4,
 "nbformat_minor": 1
}
