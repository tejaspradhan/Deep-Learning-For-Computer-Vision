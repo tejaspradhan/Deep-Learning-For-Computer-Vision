{
 "cells": [
  {
   "cell_type": "code",
   "execution_count": 1,
   "metadata": {},
   "outputs": [],
   "source": [
    "import cv2\n",
    "import numpy as np"
   ]
  },
  {
   "cell_type": "markdown",
   "metadata": {},
   "source": [
    "# Basic Image Functions"
   ]
  },
  {
   "cell_type": "markdown",
   "metadata": {},
   "source": [
    "### 1) Reading and Displaying an Image"
   ]
  },
  {
   "cell_type": "code",
   "execution_count": 7,
   "metadata": {},
   "outputs": [],
   "source": [
    "# Reading image as it is\n",
    "img = cv2.imread('cat.jpg',1)\n",
    "cv2.imshow('Original',img)\n",
    "cv2.waitKey(0)\n",
    "cv2.destroyAllWindows()"
   ]
  },
  {
   "cell_type": "code",
   "execution_count": 4,
   "metadata": {},
   "outputs": [],
   "source": [
    "img = cv2.imread('cat.jpg',0)\n",
    "cv2.imshow('Original',img)\n",
    "cv2.waitKey(0)\n",
    "cv2.destroyAllWindows()"
   ]
  },
  {
   "cell_type": "code",
   "execution_count": 11,
   "metadata": {},
   "outputs": [],
   "source": [
    "img = cv2.imread('cat.jpg',-2)\n",
    "cv2.imshow('Original',img)\n",
    "cv2.waitKey(0)\n",
    "cv2.destroyAllWindows()"
   ]
  },
  {
   "cell_type": "markdown",
   "metadata": {},
   "source": [
    "#### *** If we want to store the image in a different format we use the imwrite() function***"
   ]
  },
  {
   "cell_type": "markdown",
   "metadata": {},
   "source": [
    "## 2) Size and Shape Functions"
   ]
  },
  {
   "cell_type": "code",
   "execution_count": 9,
   "metadata": {},
   "outputs": [
    {
     "data": {
      "text/plain": [
       "3686400"
      ]
     },
     "execution_count": 9,
     "metadata": {},
     "output_type": "execute_result"
    }
   ],
   "source": [
    "img.size # reurns the size of the image in bits = R*G*B"
   ]
  },
  {
   "cell_type": "code",
   "execution_count": 10,
   "metadata": {},
   "outputs": [
    {
     "data": {
      "text/plain": [
       "(1280, 960, 3)"
      ]
     },
     "execution_count": 10,
     "metadata": {},
     "output_type": "execute_result"
    }
   ],
   "source": [
    "img.shape   # Number of RGB channels"
   ]
  },
  {
   "cell_type": "markdown",
   "metadata": {},
   "source": [
    " ## 3) Creating  images using drawing functions"
   ]
  },
  {
   "cell_type": "code",
   "execution_count": 24,
   "metadata": {},
   "outputs": [],
   "source": [
    "# creating an image as a numpy array\n",
    "\n",
    "image = np.zeros((500,500,3),dtype='uint8')  # datatype of the image has to be 8bit unsigned integer=> 0 to 255"
   ]
  },
  {
   "cell_type": "code",
   "execution_count": 25,
   "metadata": {},
   "outputs": [],
   "source": [
    "cv2.imshow('Pic',image)\n",
    "cv2.waitKey(0)\n",
    "cv2.destroyAllWindows()"
   ]
  },
  {
   "cell_type": "markdown",
   "metadata": {},
   "source": [
    "##### drawing a rectangle\n",
    "#### cv2.rectangle(name of image variable,left top points,right bottom points, color(b,g,r) thickness)"
   ]
  },
  {
   "cell_type": "code",
   "execution_count": 23,
   "metadata": {},
   "outputs": [],
   "source": [
    "cv2.rectangle(image,(10,10),(80,80),(500,0,0),2)\n",
    "cv2.imshow('Pic',image)\n",
    "cv2.waitKey(0)\n",
    "cv2.destroyAllWindows()"
   ]
  },
  {
   "cell_type": "markdown",
   "metadata": {},
   "source": [
    "##### drawing a Line\n",
    "#### cv2.rectangle(name of image variable,start co-ordinates,end co-ordintes, color(b,g,r) thickness)"
   ]
  },
  {
   "cell_type": "code",
   "execution_count": 29,
   "metadata": {},
   "outputs": [],
   "source": [
    "cv2.line(image,(100,10),(200,30),(0,255,0),8)\n",
    "cv2.imshow('Pic',image)\n",
    "cv2.waitKey(0)\n",
    "cv2.destroyAllWindows()"
   ]
  },
  {
   "cell_type": "markdown",
   "metadata": {},
   "source": [
    "##### drawing a Circle\n",
    "##### cv2.circle(name of image object,centre,radius,color(b,g,r),thickness)"
   ]
  },
  {
   "cell_type": "code",
   "execution_count": 26,
   "metadata": {},
   "outputs": [],
   "source": [
    "cv2.circle(image,(250,250),50,(0,0,255),6)\n",
    "cv2.imshow('Pic',image)\n",
    "cv2.waitKey(0)\n",
    "cv2.destroyAllWindows()"
   ]
  },
  {
   "cell_type": "markdown",
   "metadata": {},
   "source": [
    "##### Writing Text\n",
    "##### cv2.putText(name of var,\"text\",font, size of text, color(b,g,r),thickness of each letter)"
   ]
  },
  {
   "cell_type": "code",
   "execution_count": 29,
   "metadata": {},
   "outputs": [],
   "source": [
    "cv2.putText(image,\"Hey There!\",(80,30),cv2.FONT_HERSHEY_DUPLEX,2,(255,30,70),2)\n",
    "cv2.imshow('Pic',image)\n",
    "cv2.waitKey(0)\n",
    "cv2.destroyAllWindows()"
   ]
  },
  {
   "cell_type": "markdown",
   "metadata": {},
   "source": [
    "# Image Arithmetics and Logical Operations"
   ]
  },
  {
   "cell_type": "code",
   "execution_count": 12,
   "metadata": {},
   "outputs": [],
   "source": [
    "# Conventional adding. Here the images retain their opaqueness\n",
    "img1 = cv2.imread('cat.png')\n",
    "img2 = cv2.imread('logo.png')\n",
    "res_img = img1+img2 \n",
    "cv2.imshow('Addition',res_img)\n",
    "cv2.waitKey(0)\n",
    "cv2.destroyAllWindows()\n"
   ]
  },
  {
   "cell_type": "code",
   "execution_count": 14,
   "metadata": {},
   "outputs": [],
   "source": [
    "# Using the add function in opencv. Here, all the pixel values get added in the form of a matrix addition and if the value is above 255 it gets set to 255 \n",
    "# Hence, opaqueness is lost\n",
    "res_img = cv2.add(img1,img2)\n",
    "cv2.imshow('Addition',res_img)\n",
    "cv2.waitKey(0)\n",
    "cv2.destroyAllWindows()\n"
   ]
  },
  {
   "cell_type": "code",
   "execution_count": 19,
   "metadata": {},
   "outputs": [],
   "source": [
    "# Weighted addition\n",
    "weighted = cv2.addWeighted(img1,0.6,img2,0.4,0)\n",
    "cv2.imshow('Addition',weighted)\n",
    "cv2.waitKey(0)\n",
    "cv2.destroyAllWindows()\n"
   ]
  },
  {
   "cell_type": "code",
   "execution_count": null,
   "metadata": {},
   "outputs": [],
   "source": []
  },
  {
   "cell_type": "markdown",
   "metadata": {},
   "source": [
    "## 3) Image Processing"
   ]
  },
  {
   "cell_type": "markdown",
   "metadata": {},
   "source": [
    "##### Image Translation"
   ]
  },
  {
   "cell_type": "code",
   "execution_count": 19,
   "metadata": {},
   "outputs": [],
   "source": [
    "image = cv2.imread('tejas.jpg')\n",
    "cv2.imshow('Original',image)\n",
    "cv2.waitKey(0)\n",
    "cv2.destroyAllWindows()\n",
    "cols = image.shape[1]\n",
    "rows = image.shape[0]\n",
    "M = np.float32([[1,0,35],[0,1,25]]) # translation matrix\n",
    "shifted_img = cv2.warpAffine(image,M,(cols,rows))\n",
    "cv2.imshow('Original',shifted_img)\n",
    "cv2.waitKey(0)\n",
    "cv2.destroyAllWindows()"
   ]
  },
  {
   "cell_type": "markdown",
   "metadata": {},
   "source": [
    "##### Image Rotation"
   ]
  },
  {
   "cell_type": "code",
   "execution_count": 20,
   "metadata": {},
   "outputs": [],
   "source": [
    "image = cv2.imread('tejas.jpg')\n",
    "cols = image.shape[1]\n",
    "rows = image.shape[0]\n",
    "centre = (cols/2,rows/2)\n",
    "angle = 90  # acw rotation - for clockwise, change sign\n",
    "M = cv2.getRotationMatrix2D(centre,angle,1) \n",
    "# (centre,angle, scale) scale tells us whether we want to shrink or enlarge the image. so 0.5 would mean half the size and 2 would mean twice the size\n",
    "rotated_img = cv2.warpAffine(image,M,(cols,rows))\n",
    "cv2.imshow('Rotated',rotated_img)\n",
    "cv2.waitKey(0)\n",
    "cv2.destroyAllWindows()"
   ]
  },
  {
   "cell_type": "markdown",
   "metadata": {},
   "source": [
    "##### Image Thresholding"
   ]
  },
  {
   "cell_type": "markdown",
   "metadata": {},
   "source": [
    "An algorithm called heuristic algorithm is used for the purpose of global Thresholding\n",
    "The algorithm is as follows:\n",
    "\n",
    "1) Select an initial threshold T\n",
    "\n",
    "2) Let m1 be no. of pixels having pixel value > T\n",
    "   Let m2 be no. of pixels having pixel value <=T\n",
    "   \n",
    "3) Our new T = (m1+m2)/2 -> this process is done until T remains constant"
   ]
  },
  {
   "cell_type": "code",
   "execution_count": 22,
   "metadata": {},
   "outputs": [],
   "source": [
    "img = cv2.imread('bookpage.jpg')\n",
    "retval, thresh = cv2.threshold(img,20,255,cv2.THRESH_BINARY)\n",
    "cv2.imshow('Original ', img)\n",
    "cv2.imshow('Thresholded',thresh)\n",
    "cv2.waitKey(0)\n",
    "cv2.destroyAllWindows()\n"
   ]
  },
  {
   "cell_type": "code",
   "execution_count": 24,
   "metadata": {},
   "outputs": [],
   "source": [
    "# Now we convert the image to grayscale and then apply thresholding on it\n",
    "grayscaled = cv2.cvtColor(img,cv2.COLOR_BGR2GRAY)\n",
    "retval2, thresh2 = cv2.threshold(grayscaled,20,255,cv2.THRESH_BINARY)\n",
    "cv2.imshow('Original ', img)\n",
    "cv2.imshow('Thresholded',thresh2)\n",
    "cv2.waitKey(0)\n",
    "cv2.destroyAllWindows()\n"
   ]
  },
  {
   "cell_type": "markdown",
   "metadata": {},
   "source": [
    "###### Adaptive Gaussian Threshold"
   ]
  },
  {
   "cell_type": "code",
   "execution_count": 32,
   "metadata": {},
   "outputs": [],
   "source": [
    "gaussian = cv2.adaptiveThreshold(grayscaled,255,cv2.ADAPTIVE_THRESH_GAUSSIAN_C,cv2.THRESH_BINARY,121,1)\n",
    "cv2.imshow('Thresholded',gaussian)\n",
    "cv2.waitKey(0)\n",
    "cv2.destroyAllWindows()\n"
   ]
  },
  {
   "cell_type": "markdown",
   "metadata": {},
   "source": [
    "##### Otsu Threshold"
   ]
  },
  {
   "cell_type": "code",
   "execution_count": 34,
   "metadata": {},
   "outputs": [],
   "source": [
    "otsu_val,otsu_thresh = cv2.threshold(grayscaled,25,255,cv2.THRESH_BINARY+cv2.THRESH_OTSU)\n",
    "cv2.imshow('Thresholded',otsu_thresh)\n",
    "cv2.waitKey(0)\n",
    "cv2.destroyAllWindows()\n"
   ]
  },
  {
   "cell_type": "markdown",
   "metadata": {},
   "source": [
    "Depending on the functionality we use either one of:\n",
    "1) Simple Threshold\n",
    "\n",
    "2) Adaptive Gaussian Threshold\n",
    "\n",
    "3) Otsu Threshold"
   ]
  },
  {
   "cell_type": "code",
   "execution_count": null,
   "metadata": {},
   "outputs": [],
   "source": []
  },
  {
   "cell_type": "markdown",
   "metadata": {},
   "source": [
    "# Loading Videos Using Video files and Interacting with Web-Cams"
   ]
  },
  {
   "cell_type": "code",
   "execution_count": null,
   "metadata": {},
   "outputs": [],
   "source": []
  },
  {
   "cell_type": "code",
   "execution_count": 42,
   "metadata": {},
   "outputs": [],
   "source": [
    "cap = cv2.VideoCapture(0)\n",
    "\n",
    "while True:\n",
    "    ret,frame = cap.read()\n",
    "    fram1 = cv2.cvtColor(frame,cv2.COLOR_BGR2GRAY)\n",
    "    cv2.imshow('Frame',fram1)\n",
    "    \n",
    "    if cv2.waitKey(1) & 0xFF == ord('a'):\n",
    "        break\n",
    "cap.release()\n",
    "cv2.destroyAllWindows()\n"
   ]
  },
  {
   "cell_type": "markdown",
   "metadata": {},
   "source": [
    "### Creating and saving Videos"
   ]
  },
  {
   "cell_type": "code",
   "execution_count": 47,
   "metadata": {},
   "outputs": [],
   "source": [
    "cap = cv2.VideoCapture(0)\n",
    "fourcc = cv2.VideoWriter_fourcc(*'XVID')   # prepare a codec\n",
    "out = cv2.VideoWriter('output.mp4',fourcc,20.0,(640,480)) # create a video writer object\n",
    "while True:\n",
    "    ret,frame = cap.read()\n",
    "    cv2.imshow('Frame',frame)\n",
    "    out.write(frame) # write the frame\n",
    "    \n",
    "    if cv2.waitKey(1) & 0xFF == ord('a'):\n",
    "        break\n",
    "cap.release()\n",
    "out.release() #save\n",
    "cv2.destroyAllWindows()\n"
   ]
  },
  {
   "cell_type": "code",
   "execution_count": 7,
   "metadata": {},
   "outputs": [],
   "source": [
    "l = [72,\n",
    "76,\n",
    "46,\n",
    "9,\n",
    "67,\n",
    "15,\n",
    "26,\n",
    "53,\n",
    "21,\n",
    "40,\n",
    "78,\n",
    "65,\n",
    "42,\n",
    "5,\n",
    "50,\n",
    "38,\n",
    "10,\n",
    "16,\n",
    "11,\n",
    "64,\n",
    "55,\n",
    "69,\n",
    "70,\n",
    "61,\n",
    "18,\n",
    "1,\n",
    "7,\n",
    "62,\n",
    "45,\n",
    "68,\n",
    "58,\n",
    "35,\n",
    "24,\n",
    "66,\n",
    "4,\n",
    "32,\n",
    "6,\n",
    "56,\n",
    "36,\n",
    "12,\n",
    "33,\n",
    "59,\n",
    "44,\n",
    "51,\n",
    "64,\n",
    "77,\n",
    "75,\n",
    "80,\n",
    "2,\n",
    "54,\n",
    "3,\n",
    "79,\n",
    "25,\n",
    "73,\n",
    "23,\n",
    "57,\n",
    "48,\n",
    "71,\n",
    "60,\n",
    "28,\n",
    "13,\n",
    "19,\n",
    "52,\n",
    "17,\n",
    "31,\n",
    "43,\n",
    "49,\n",
    "27,\n",
    "20,\n",
    "30,\n",
    "37,\n",
    "14]"
   ]
  },
  {
   "cell_type": "code",
   "execution_count": 8,
   "metadata": {},
   "outputs": [],
   "source": [
    "l.sort()"
   ]
  },
  {
   "cell_type": "code",
   "execution_count": 9,
   "metadata": {},
   "outputs": [
    {
     "data": {
      "text/plain": [
       "[1,\n",
       " 2,\n",
       " 3,\n",
       " 4,\n",
       " 5,\n",
       " 6,\n",
       " 7,\n",
       " 9,\n",
       " 10,\n",
       " 11,\n",
       " 12,\n",
       " 13,\n",
       " 14,\n",
       " 15,\n",
       " 16,\n",
       " 17,\n",
       " 18,\n",
       " 19,\n",
       " 20,\n",
       " 21,\n",
       " 23,\n",
       " 24,\n",
       " 25,\n",
       " 26,\n",
       " 27,\n",
       " 28,\n",
       " 30,\n",
       " 31,\n",
       " 32,\n",
       " 33,\n",
       " 35,\n",
       " 36,\n",
       " 37,\n",
       " 38,\n",
       " 40,\n",
       " 42,\n",
       " 43,\n",
       " 44,\n",
       " 45,\n",
       " 46,\n",
       " 48,\n",
       " 49,\n",
       " 50,\n",
       " 51,\n",
       " 52,\n",
       " 53,\n",
       " 54,\n",
       " 55,\n",
       " 56,\n",
       " 57,\n",
       " 58,\n",
       " 59,\n",
       " 60,\n",
       " 61,\n",
       " 62,\n",
       " 64,\n",
       " 64,\n",
       " 65,\n",
       " 66,\n",
       " 67,\n",
       " 68,\n",
       " 69,\n",
       " 70,\n",
       " 71,\n",
       " 72,\n",
       " 73,\n",
       " 75,\n",
       " 76,\n",
       " 77,\n",
       " 78,\n",
       " 79,\n",
       " 80]"
      ]
     },
     "execution_count": 9,
     "metadata": {},
     "output_type": "execute_result"
    }
   ],
   "source": [
    "l"
   ]
  },
  {
   "cell_type": "code",
   "execution_count": null,
   "metadata": {},
   "outputs": [],
   "source": []
  }
 ],
 "metadata": {
  "kernelspec": {
   "display_name": "Python 3",
   "language": "python",
   "name": "python3"
  },
  "language_info": {
   "codemirror_mode": {
    "name": "ipython",
    "version": 3
   },
   "file_extension": ".py",
   "mimetype": "text/x-python",
   "name": "python",
   "nbconvert_exporter": "python",
   "pygments_lexer": "ipython3",
   "version": "3.6.5"
  }
 },
 "nbformat": 4,
 "nbformat_minor": 2
}
