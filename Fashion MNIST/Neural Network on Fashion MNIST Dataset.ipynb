{
 "cells": [
  {
   "cell_type": "markdown",
   "metadata": {},
   "source": [
    "## Importing the Necessary Libraries"
   ]
  },
  {
   "cell_type": "code",
   "execution_count": 3,
   "metadata": {},
   "outputs": [
    {
     "name": "stderr",
     "output_type": "stream",
     "text": [
      "C:\\Users\\Admin\\Anaconda3\\lib\\site-packages\\h5py\\__init__.py:36: FutureWarning: Conversion of the second argument of issubdtype from `float` to `np.floating` is deprecated. In future, it will be treated as `np.float64 == np.dtype(float).type`.\n",
      "  from ._conv import register_converters as _register_converters\n"
     ]
    }
   ],
   "source": [
    "import tensorflow\n",
    "from tensorflow.keras.layers import Dense, Flatten, Softmax\n",
    "import numpy as np\n",
    "import matplotlib.pyplot as plt\n",
    "import pandas as pd"
   ]
  },
  {
   "cell_type": "markdown",
   "metadata": {},
   "source": [
    "## Loading the Dataset"
   ]
  },
  {
   "cell_type": "code",
   "execution_count": 4,
   "metadata": {},
   "outputs": [],
   "source": [
    "fashion_mnist = tensorflow.keras.datasets.fashion_mnist"
   ]
  },
  {
   "cell_type": "code",
   "execution_count": 5,
   "metadata": {},
   "outputs": [],
   "source": [
    "(train_images, train_labels),(test_images, test_labels) = fashion_mnist.load_data()"
   ]
  },
  {
   "cell_type": "code",
   "execution_count": 6,
   "metadata": {},
   "outputs": [
    {
     "data": {
      "text/plain": [
       "(60000, 28, 28)"
      ]
     },
     "execution_count": 6,
     "metadata": {},
     "output_type": "execute_result"
    }
   ],
   "source": [
    "train_images.shape "
   ]
  },
  {
   "cell_type": "code",
   "execution_count": 7,
   "metadata": {},
   "outputs": [
    {
     "name": "stdout",
     "output_type": "stream",
     "text": [
      "9\n"
     ]
    },
    {
     "data": {
      "image/png": "[encoded data removed]",
      "text/plain": [
       "<Figure size 432x288 with 1 Axes>"
      ]
     },
     "metadata": {
      "needs_background": "light"
     },
     "output_type": "display_data"
    }
   ],
   "source": [
    "plt.imshow(train_images[0],cmap='gray')\n",
    "print(train_labels[0])"
   ]
  },
  {
   "cell_type": "markdown",
   "metadata": {},
   "source": [
    "## Normalizing the Images"
   ]
  },
  {
   "cell_type": "code",
   "execution_count": 8,
   "metadata": {},
   "outputs": [],
   "source": [
    "train_images = train_images/255.0\n",
    "test_images = test_images/255.0"
   ]
  },
  {
   "cell_type": "markdown",
   "metadata": {},
   "source": [
    "## Building the Neural Network "
   ]
  },
  {
   "cell_type": "code",
   "execution_count": 35,
   "metadata": {},
   "outputs": [],
   "source": [
    "model = tensorflow.keras.Sequential()\n",
    "model.add(Flatten())\n",
    "model.add(Dense(128,activation='relu'))\n",
    "model.add(Dense(128,activation='relu'))\n",
    "model.add(Dense(128,activation='relu'))\n",
    "model.add(Softmax())\n",
    "model.compile(optimizer='adam',loss= 'sparse_categorical_crossentropy',metrics=['accuracy'])"
   ]
  },
  {
   "cell_type": "markdown",
   "metadata": {},
   "source": [
    "## Defining a Custom Callback Method to stop training "
   ]
  },
  {
   "cell_type": "code",
   "execution_count": 36,
   "metadata": {},
   "outputs": [],
   "source": [
    "class Callback(tensorflow.keras.callbacks.Callback):\n",
    "    def on_epoch_end(self, epoch, logs={}):\n",
    "        if(logs.get('accuracy')>0.96):\n",
    "            print(\"\\nReached 96% accuracy so cancelling training!\")\n",
    "            self.model.stop_training = True\n",
    "callback = Callback()"
   ]
  },
  {
   "cell_type": "markdown",
   "metadata": {},
   "source": [
    "## Fitting the model on the Data"
   ]
  },
  {
   "cell_type": "code",
   "execution_count": 37,
   "metadata": {},
   "outputs": [
    {
     "name": "stdout",
     "output_type": "stream",
     "text": [
      "Train on 60000 samples\n",
      "Epoch 1/500\n",
      "60000/60000 [==============================] - 10s 170us/sample - loss: 1.0443 - accuracy: 0.7335\n",
      "Epoch 2/500\n",
      "60000/60000 [==============================] - 9s 158us/sample - loss: 0.8584 - accuracy: 0.7760\n",
      "Epoch 3/500\n",
      "60000/60000 [==============================] - 10s 165us/sample - loss: 0.8201 - accuracy: 0.7879\n",
      "Epoch 4/500\n",
      "60000/60000 [==============================] - 9s 145us/sample - loss: 0.7984 - accuracy: 0.7941\n",
      "Epoch 5/500\n",
      "60000/60000 [==============================] - 9s 155us/sample - loss: 0.7809 - accuracy: 0.7994\n",
      "Epoch 6/500\n",
      "60000/60000 [==============================] - 9s 145us/sample - loss: 0.7647 - accuracy: 0.8045\n",
      "Epoch 7/500\n",
      "60000/60000 [==============================] - 9s 154us/sample - loss: 0.7532 - accuracy: 0.8070\n",
      "Epoch 8/500\n",
      "60000/60000 [==============================] - 10s 164us/sample - loss: 0.7419 - accuracy: 0.8122\n",
      "Epoch 9/500\n",
      "60000/60000 [==============================] - 10s 167us/sample - loss: 0.7259 - accuracy: 0.8153\n",
      "Epoch 10/500\n",
      "60000/60000 [==============================] - 10s 175us/sample - loss: 0.2423 - accuracy: 0.9098\n",
      "Epoch 11/500\n",
      "60000/60000 [==============================] - 10s 172us/sample - loss: 0.2323 - accuracy: 0.9133\n",
      "Epoch 12/500\n",
      "60000/60000 [==============================] - 9s 148us/sample - loss: 0.2235 - accuracy: 0.9155\n",
      "Epoch 13/500\n",
      "60000/60000 [==============================] - 10s 161us/sample - loss: 0.2146 - accuracy: 0.9185\n",
      "Epoch 14/500\n",
      "60000/60000 [==============================] - 10s 173us/sample - loss: 0.2069 - accuracy: 0.9215\n",
      "Epoch 15/500\n",
      "60000/60000 [==============================] - 11s 184us/sample - loss: 0.1996 - accuracy: 0.9243\n",
      "Epoch 16/500\n",
      "60000/60000 [==============================] - 10s 173us/sample - loss: 0.1962 - accuracy: 0.9264\n",
      "Epoch 17/500\n",
      "60000/60000 [==============================] - 11s 180us/sample - loss: 0.1870 - accuracy: 0.9287\n",
      "Epoch 18/500\n",
      "60000/60000 [==============================] - 11s 181us/sample - loss: 0.1823 - accuracy: 0.9305\n",
      "Epoch 19/500\n",
      "60000/60000 [==============================] - 10s 173us/sample - loss: 0.1754 - accuracy: 0.9332\n",
      "Epoch 20/500\n",
      "60000/60000 [==============================] - 9s 156us/sample - loss: 0.1720 - accuracy: 0.9348\n",
      "Epoch 21/500\n",
      "60000/60000 [==============================] - 11s 178us/sample - loss: 0.1661 - accuracy: 0.9361\n",
      "Epoch 22/500\n",
      "60000/60000 [==============================] - 10s 165us/sample - loss: 0.1633 - accuracy: 0.9372\n",
      "Epoch 23/500\n",
      "60000/60000 [==============================] - 10s 171us/sample - loss: 0.1573 - accuracy: 0.9401\n",
      "Epoch 24/500\n",
      "60000/60000 [==============================] - 11s 178us/sample - loss: 0.1558 - accuracy: 0.9404\n",
      "Epoch 25/500\n",
      "60000/60000 [==============================] - 10s 171us/sample - loss: 0.1479 - accuracy: 0.9435\n",
      "Epoch 26/500\n",
      "60000/60000 [==============================] - 10s 168us/sample - loss: 0.1465 - accuracy: 0.9440\n",
      "Epoch 27/500\n",
      "60000/60000 [==============================] - 11s 182us/sample - loss: 0.1432 - accuracy: 0.9455\n",
      "Epoch 28/500\n",
      "60000/60000 [==============================] - 11s 180us/sample - loss: 0.1378 - accuracy: 0.9469\n",
      "Epoch 29/500\n",
      "60000/60000 [==============================] - 11s 178us/sample - loss: 0.1366 - accuracy: 0.9475\n",
      "Epoch 30/500\n",
      "60000/60000 [==============================] - 11s 176us/sample - loss: 0.1318 - accuracy: 0.9501\n",
      "Epoch 31/500\n",
      "60000/60000 [==============================] - 10s 167us/sample - loss: 0.1319 - accuracy: 0.9496\n",
      "Epoch 32/500\n",
      "60000/60000 [==============================] - 10s 159us/sample - loss: 0.1264 - accuracy: 0.9516\n",
      "Epoch 33/500\n",
      "60000/60000 [==============================] - 11s 178us/sample - loss: 0.1223 - accuracy: 0.9531\n",
      "Epoch 34/500\n",
      "60000/60000 [==============================] - 10s 169us/sample - loss: 0.1222 - accuracy: 0.9533\n",
      "Epoch 35/500\n",
      "60000/60000 [==============================] - 10s 172us/sample - loss: 0.1188 - accuracy: 0.9545\n",
      "Epoch 36/500\n",
      "60000/60000 [==============================] - 9s 157us/sample - loss: 0.1137 - accuracy: 0.9566\n",
      "Epoch 37/500\n",
      "60000/60000 [==============================] - 10s 167us/sample - loss: 0.1149 - accuracy: 0.9552\n",
      "Epoch 38/500\n",
      "60000/60000 [==============================] - 11s 176us/sample - loss: 0.1116 - accuracy: 0.9570\n",
      "Epoch 39/500\n",
      "60000/60000 [==============================] - 11s 182us/sample - loss: 0.1074 - accuracy: 0.9586\n",
      "Epoch 40/500\n",
      "59936/60000 [============================>.] - ETA: 0s - loss: 0.1056 - accuracy: 0.9605\n",
      "Reached 96% accuracy so cancelling training!\n",
      "60000/60000 [==============================] - 10s 174us/sample - loss: 0.1056 - accuracy: 0.9605\n"
     ]
    },
    {
     "data": {
      "text/plain": [
       "<tensorflow.python.keras.callbacks.History at 0x200b3135630>"
      ]
     },
     "execution_count": 37,
     "metadata": {},
     "output_type": "execute_result"
    }
   ],
   "source": [
    "model.fit(train_images,train_labels,epochs = 500, callbacks =[callback])"
   ]
  },
  {
   "cell_type": "markdown",
   "metadata": {},
   "source": [
    "## Testing the model's performance on validation set"
   ]
  },
  {
   "cell_type": "code",
   "execution_count": null,
   "metadata": {},
   "outputs": [],
   "source": [
    "print(\"Accuracy is : \",model.evaluate(test_images,test_labels)[1]*100,'%')"
   ]
  },
  {
   "cell_type": "code",
   "execution_count": null,
   "metadata": {},
   "outputs": [],
   "source": []
  }
 ],
 "metadata": {
  "kernelspec": {
   "display_name": "Python 3",
   "language": "python",
   "name": "python3"
  },
  "language_info": {
   "codemirror_mode": {
    "name": "ipython",
    "version": 3
   },
   "file_extension": ".py",
   "mimetype": "text/x-python",
   "name": "python",
   "nbconvert_exporter": "python",
   "pygments_lexer": "ipython3",
   "version": "3.6.5"
  }
 },
 "nbformat": 4,
 "nbformat_minor": 2
}
